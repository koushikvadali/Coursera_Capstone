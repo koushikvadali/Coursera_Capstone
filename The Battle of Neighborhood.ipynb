{
    "cells": [
        {
            "metadata": {
                "collapsed": true
            },
            "cell_type": "markdown",
            "source": "<strong><h1>Battle of Neighbourhoods - Best Location for Italian Restaurant in New York</h1></strong>\n\n<img src =\"https://i.ytimg.com/vi/hVTXu8SgVyE/maxresdefault.jpg\">"
        },
        {
            "metadata": {},
            "cell_type": "markdown",
            "source": "<stong><h3> Table of contents</h3><strong>\n    \n* [Introduction: Business Problem](#introduction)\n* [Data](#data)   "
        },
        {
            "metadata": {},
            "cell_type": "markdown",
            "source": "<strong><h2>Introduction: Business Problem</h2><strong> <a name=\"introduction\"></a>"
        },
        {
            "metadata": {},
            "cell_type": "markdown",
            "source": "**New York city** has many restaurants that cater to a large number of people with its **wide variety of cuisines** choices. These cuisines come from various ethnic groups who have come to the city from various parts of the world.\n\nHowever, for any one trying to open a restuarant in the New York city, the choice on the location for the restaurant can be daunting due to the abudance of restaurants around.\n\nIn this project, we are trying to find a location for an **Italian Restaurant** in New York city using data science such that there is little or no competition around offering the same cuisine.\n"
        },
        {
            "metadata": {},
            "cell_type": "markdown",
            "source": "<stong><h2>Data</h2><strong> <a name=\"data\"></a>"
        },
        {
            "metadata": {},
            "cell_type": "markdown",
            "source": "Based on the problem, we will need the following data for finding the best location for an Italian Restaurant in New York\n\n* Neighboorhood and Boroughs data incuding latitude and longitude data in order to segement them which can be found on 'https://geo.nyu.edu/catalog/nyu_2451_34572'.\n\n\n* Venue Data for each borough and neighborhood which can be retrived through Foresquare.\n\n With the above data, we will look at top 10 venues in each of the clusters formed by using K means algorithm and then decide the location based results."
        },
        {
            "metadata": {},
            "cell_type": "code",
            "source": "",
            "execution_count": null,
            "outputs": []
        },
        {
            "metadata": {},
            "cell_type": "code",
            "source": "",
            "execution_count": null,
            "outputs": []
        }
    ],
    "metadata": {
        "kernelspec": {
            "name": "python3",
            "display_name": "Python 3.6",
            "language": "python"
        },
        "language_info": {
            "name": "python",
            "version": "3.6.9",
            "mimetype": "text/x-python",
            "codemirror_mode": {
                "name": "ipython",
                "version": 3
            },
            "pygments_lexer": "ipython3",
            "nbconvert_exporter": "python",
            "file_extension": ".py"
        }
    },
    "nbformat": 4,
    "nbformat_minor": 1
}